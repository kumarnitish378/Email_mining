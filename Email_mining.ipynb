{
 "cells": [
  {
   "cell_type": "code",
   "execution_count": 67,
   "metadata": {},
   "outputs": [],
   "source": [
    "with open(\"PEmails.txt\",'r',encoding=\"utf8\") as f:\n",
    "    data = f.read()\n",
    "    a = data.split()\n",
    "    email = []\n",
    "    for i in a:\n",
    "        if \"@\" in i and len(i)>5:\n",
    "            if \"id--\" in i:\n",
    "                i=i.replace('id--',\"\")\n",
    "            if \"Email-\" in i:\n",
    "                i=i.replace('Email-',\"\")\n",
    "            if 'e-mail -' in i:\n",
    "                i=i.replace('e-mail -',\"\")\n",
    "            if 'id-' in i:\n",
    "                i=i.replace('id-',\"\")\n",
    "            if '-' in i:\n",
    "                i=i.replace('-',\"\")\n",
    "            if \"EMAIL=\" in i:\n",
    "                i = i.replace('EMAIL=','')\n",
    "            if \" \" in i:\n",
    "                i = i.replace(' ','')\n",
    "            email.append(i)\n",
    "#             print(i, file=open(\"email.txt\",'a'))\n",
    "#     print(email)"
   ]
  },
  {
   "cell_type": "code",
   "execution_count": null,
   "metadata": {},
   "outputs": [],
   "source": []
  },
  {
   "cell_type": "code",
   "execution_count": null,
   "metadata": {},
   "outputs": [],
   "source": []
  },
  {
   "cell_type": "code",
   "execution_count": null,
   "metadata": {},
   "outputs": [],
   "source": []
  }
 ],
 "metadata": {
  "kernelspec": {
   "display_name": "Python 3",
   "language": "python",
   "name": "python3"
  },
  "language_info": {
   "codemirror_mode": {
    "name": "ipython",
    "version": 3
   },
   "file_extension": ".py",
   "mimetype": "text/x-python",
   "name": "python",
   "nbconvert_exporter": "python",
   "pygments_lexer": "ipython3",
   "version": "3.7.4"
  }
 },
 "nbformat": 4,
 "nbformat_minor": 2
}
